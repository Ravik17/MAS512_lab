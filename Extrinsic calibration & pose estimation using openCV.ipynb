{
 "cells": [
  {
   "cell_type": "markdown",
   "id": "88522009",
   "metadata": {},
   "source": [
    "# Extrinsic calibration & pose estimation using openCV"
   ]
  },
  {
   "cell_type": "markdown",
   "id": "057471fe",
   "metadata": {},
   "source": [
    "# 0. Import Dependencies"
   ]
  },
  {
   "cell_type": "code",
   "execution_count": 11,
   "id": "9930138c",
   "metadata": {},
   "outputs": [
    {
     "data": {
      "text/plain": [
       "'Enviroments Ready!'"
      ]
     },
     "execution_count": 11,
     "metadata": {},
     "output_type": "execute_result"
    }
   ],
   "source": [
    "import numpy as np\n",
    "import cv2\n",
    "import cv2 as cv\n",
    "import glob\n",
    "import matplotlib.pyplot as plt\n",
    "%matplotlib inline\n",
    "('Enviroments Ready!')"
   ]
  },
  {
   "cell_type": "markdown",
   "id": "f1ae1aa3",
   "metadata": {},
   "source": [
    "# 1. Extrinsic Calibration"
   ]
  },
  {
   "cell_type": "code",
   "execution_count": 13,
   "id": "7d22c8b1",
   "metadata": {},
   "outputs": [],
   "source": [
    "# Documentation of the code: https://docs.opencv.org/4.x/dc/dbb/tutorial_py_calibration.html\n",
    "\n",
    "# checkerboard Dimensions\n",
    "cbrow = 5\n",
    "cbcol = 8\n",
    "\n",
    "criteria = (cv.TERM_CRITERIA_EPS + cv.TERM_CRITERIA_MAX_ITER, 30, 0.001)\n",
    "\n",
    "# prepare object points, like (0,0,0), (1,0,0), (2,0,0) ....,(6,5,0)\n",
    "objp = np.zeros((cbrow * cbcol, 3), np.float32)\n",
    "objp[:, :2] = np.mgrid[0:cbcol, 0:cbrow].T.reshape(-1, 2)\n",
    "\n",
    "# Arrays to store object points and image points from all the images.\n",
    "objpoints = [] # 3d point in real world space\n",
    "imgpoints = [] # 2d points in image plane.\n",
    "\n",
    "# Path to images taken\n",
    "images = glob.glob(r'C:\\Users\\Bruker\\Desktop\\Master 3.semester\\MAS512-Maskinsyn og innebygd AI\\Lab_exercises\\Lab_06.09\\*.png')\n",
    "\n",
    "for fname in images:\n",
    "    img = cv.imread(fname)\n",
    "    gray = cv.cvtColor(img, cv.COLOR_BGR2GRAY)\n",
    "    \n",
    "    # Find the chess board corners\n",
    "    ret, corners = cv2.findChessboardCorners(gray, (cbcol, cbrow), None)\n",
    "    \n",
    "    # If found, add object points, image points (after refining them)\n",
    "    if ret == True:\n",
    "        objpoints.append(objp)\n",
    "        corners2 = cv.cornerSubPix(gray,corners, (11,11), (-1,-1), criteria)\n",
    "        imgpoints.append(corners)\n",
    "        \n",
    "        # Draw and display the corners\n",
    "        cv.drawChessboardCorners(img, (cbrow,cbcol), corners2, ret)\n",
    "        cv.imshow('img', img)\n",
    "        cv.waitKey(500)\n",
    "cv.destroyAllWindows()\n",
    "\n",
    "############## CALIBRATION ##############\n",
    "ret, mtx, dist, rvecs, tvecs = cv.calibrateCamera(objpoints, imgpoints, gray.shape[::-1], None, None)"
   ]
  },
  {
   "cell_type": "markdown",
   "id": "11797da7",
   "metadata": {},
   "source": [
    "# 2. Pose Estimation"
   ]
  },
  {
   "cell_type": "code",
   "execution_count": 14,
   "id": "160dc596",
   "metadata": {},
   "outputs": [],
   "source": [
    "# Documentation of the code: https://docs.opencv.org/3.4/d7/d53/tutorial_py_pose.html\n",
    "\n",
    "# Function to draw colored axis for pose estimation\n",
    "\n",
    "def draw(img, corners, imgpts):\n",
    "    corner = tuple(corners[0].ravel())\n",
    "    img = cv.line(img, corner, tuple(imgpts[0].ravel()), (255,0,0), 5)\n",
    "    img = cv.line(img, corner, tuple(imgpts[1].ravel()), (0,255,0), 5)\n",
    "    img = cv.line(img, corner, tuple(imgpts[2].ravel()), (0,0,255), 5)\n",
    "    return img\n",
    "\n",
    "axis = np.float32([[3,0,0], [0,3,0], [0,0,-3]]).reshape(-1,3)\n",
    "\n",
    "corners2 = cv.cornerSubPix(gray,corners,(11,11),(-1,-1),criteria)\n",
    "\n",
    "\n",
    " # Find the rotation and translation vectors.\n",
    "ret,rvecs, tvecs = cv.solvePnP(objp, corners2, mtx, dist)\n",
    "# project 3D points to image plane\n",
    "imgpts, jac = cv.projectPoints(axis, rvecs, tvecs, mtx, dist)\n",
    "\n",
    "corners2_new = corners2.astype(int)\n",
    "imgpts_new = imgpts.astype(int)\n",
    "img = draw(img,corners2_new,imgpts_new)\n",
    "cv.imshow('img',img)\n",
    "k = cv.waitKey(0) & 0xFF\n",
    "if k == ord('s'):\n",
    "    cv.imwrite(fname[:6]+'.png', img)\n",
    "cv.destroyAllWindows()"
   ]
  },
  {
   "cell_type": "code",
   "execution_count": null,
   "id": "ae2649b9",
   "metadata": {},
   "outputs": [],
   "source": []
  }
 ],
 "metadata": {
  "kernelspec": {
   "display_name": "Python 3 (ipykernel)",
   "language": "python",
   "name": "python3"
  },
  "language_info": {
   "codemirror_mode": {
    "name": "ipython",
    "version": 3
   },
   "file_extension": ".py",
   "mimetype": "text/x-python",
   "name": "python",
   "nbconvert_exporter": "python",
   "pygments_lexer": "ipython3",
   "version": "3.9.12"
  }
 },
 "nbformat": 4,
 "nbformat_minor": 5
}
